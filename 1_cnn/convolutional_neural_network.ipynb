{
  "nbformat": 4,
  "nbformat_minor": 0,
  "metadata": {
    "colab": {
      "name": "convolutional_neural_network.ipynb",
      "provenance": [],
      "collapsed_sections": [],
      "toc_visible": true
    },
    "kernelspec": {
      "name": "python3",
      "display_name": "Python 3"
    }
  },
  "cells": [
    {
      "cell_type": "markdown",
      "metadata": {
        "id": "3DR-eO17geWu"
      },
      "source": [
        "# Convolutional Neural Network"
      ]
    },
    {
      "cell_type": "markdown",
      "metadata": {
        "id": "EMefrVPCg-60"
      },
      "source": [
        "### Importing the libraries"
      ]
    },
    {
      "cell_type": "code",
      "metadata": {
        "id": "M5dy0VfXvlq_"
      },
      "source": [
        "import numpy as np\n",
        "import tensorflow as tf\n",
        "from keras.preprocessing.image import ImageDataGenerator\n",
        "from keras.preprocessing import image"
      ],
      "execution_count": 1,
      "outputs": []
    },
    {
      "cell_type": "code",
      "metadata": {
        "id": "LVHTbk57v63I",
        "outputId": "1ff24c5d-5106-4e67-ee9e-19047cebb973",
        "colab": {
          "base_uri": "https://localhost:8080/",
          "height": 35
        }
      },
      "source": [
        "tf.__version__"
      ],
      "execution_count": 2,
      "outputs": [
        {
          "output_type": "execute_result",
          "data": {
            "text/plain": [
              "'2.3.0'"
            ]
          },
          "metadata": {},
          "execution_count": 2
        }
      ]
    },
    {
      "cell_type": "markdown",
      "metadata": {
        "id": "oxQxCBWyoGPE"
      },
      "source": [
        "## Part 1 - Data Preprocessing"
      ]
    },
    {
      "cell_type": "markdown",
      "metadata": {
        "id": "MvE-heJNo3GG"
      },
      "source": [
        "### Preprocessing the Training set"
      ]
    },
    {
      "cell_type": "code",
      "metadata": {
        "id": "FIIkCXzyv-eu",
        "outputId": "54f6509e-bd1a-432a-e39e-41d474aff995",
        "colab": {
          "base_uri": "https://localhost:8080/",
          "height": 370
        }
      },
      "source": [
        "train_datagen = ImageDataGenerator(rescale=1./255, # feature scaling: pixel values [0;1]\n",
        "                                   shear_range=0.2,\n",
        "                                   zoom_range=0.2,\n",
        "                                   horizontal_flip=True)\n",
        "\n",
        "training_set = train_datagen.flow_from_directory('C:/Users/DorottyaWinter/Documents/git_files/deep_learning_course/1_cnn/training_set',\n",
        "                                                 target_size=(64, 64), # resize input pictures\n",
        "                                                 batch_size=32,\n",
        "                                                 class_mode='binary') # classification problem"
      ],
      "execution_count": 3,
      "outputs": [
        {
          "output_type": "stream",
          "name": "stdout",
          "text": [
            "Found 8000 images belonging to 2 classes.\n"
          ]
        }
      ]
    },
    {
      "cell_type": "markdown",
      "metadata": {
        "id": "mrCMmGw9pHys"
      },
      "source": [
        "### Preprocessing the Test set"
      ]
    },
    {
      "cell_type": "code",
      "metadata": {
        "id": "hupm7oHW1CO4",
        "outputId": "40099d0a-cb43-447e-cbe2-b7a7a8615368",
        "colab": {
          "base_uri": "https://localhost:8080/",
          "height": 370
        }
      },
      "source": [
        "# to avoid overfitting we will not apply any transformation on the test set, only rescaling\n",
        "\n",
        "test_datagen = ImageDataGenerator(rescale=1./255)\n",
        "\n",
        "test_set = test_datagen.flow_from_directory('C:/Users/DorottyaWinter/Documents/git_files/deep_learning_course/1_cnn/test_set',\n",
        "                                            target_size=(64, 64),\n",
        "                                            batch_size=32,\n",
        "                                            class_mode='binary')"
      ],
      "execution_count": 5,
      "outputs": [
        {
          "output_type": "stream",
          "name": "stdout",
          "text": [
            "Found 2000 images belonging to 2 classes.\n"
          ]
        }
      ]
    },
    {
      "cell_type": "markdown",
      "metadata": {
        "id": "af8O4l90gk7B"
      },
      "source": [
        "## Part 2 - Building the CNN"
      ]
    },
    {
      "cell_type": "markdown",
      "metadata": {
        "id": "ces1gXY2lmoX"
      },
      "source": [
        "### Initialising the CNN"
      ]
    },
    {
      "cell_type": "code",
      "metadata": {
        "id": "JjKwbovPUZ3S"
      },
      "source": [
        "cnn = tf.keras.models.Sequential()"
      ],
      "execution_count": 6,
      "outputs": []
    },
    {
      "cell_type": "markdown",
      "metadata": {
        "id": "u5YJj_XMl5LF"
      },
      "source": [
        "### Step 1 - Convolution"
      ]
    },
    {
      "cell_type": "code",
      "metadata": {
        "id": "OviwGMPqUi0s"
      },
      "source": [
        "cnn.add(\n",
        "    tf.keras.layers.Conv2D(filters=32,\n",
        "                           kernel_size=3,\n",
        "                           activation='relu',\n",
        "                           input_shape=(64,64,3)))"
      ],
      "execution_count": 7,
      "outputs": []
    },
    {
      "cell_type": "markdown",
      "metadata": {
        "id": "tf87FpvxmNOJ"
      },
      "source": [
        "### Step 2 - Pooling"
      ]
    },
    {
      "cell_type": "code",
      "metadata": {
        "id": "HiqrH8tgaD2Y"
      },
      "source": [
        "cnn.add(\n",
        "    tf.keras.layers.MaxPool2D(pool_size=(2,2),\n",
        "                              strides=2))"
      ],
      "execution_count": 8,
      "outputs": []
    },
    {
      "cell_type": "markdown",
      "metadata": {
        "id": "xaTOgD8rm4mU"
      },
      "source": [
        "### Adding a second convolutional layer"
      ]
    },
    {
      "cell_type": "code",
      "metadata": {
        "id": "njnUsacAg7lt"
      },
      "source": [
        "cnn.add(\n",
        "    tf.keras.layers.Conv2D(filters=32,\n",
        "                           kernel_size=3,\n",
        "                           activation='relu'))\n",
        "\n",
        "cnn.add(\n",
        "    tf.keras.layers.MaxPool2D(pool_size=(2,2),\n",
        "                              strides=2))"
      ],
      "execution_count": 9,
      "outputs": []
    },
    {
      "cell_type": "markdown",
      "metadata": {
        "id": "tmiEuvTunKfk"
      },
      "source": [
        "### Step 3 - Flattening"
      ]
    },
    {
      "cell_type": "code",
      "metadata": {
        "id": "LBY_9KPNhXoh"
      },
      "source": [
        "cnn.add(tf.keras.layers.Flatten())"
      ],
      "execution_count": 10,
      "outputs": []
    },
    {
      "cell_type": "markdown",
      "metadata": {
        "id": "dAoSECOm203v"
      },
      "source": [
        "### Step 4 - Full Connection"
      ]
    },
    {
      "cell_type": "code",
      "metadata": {
        "id": "vr85YD-ChfmZ"
      },
      "source": [
        "cnn.add(\n",
        "    tf.keras.layers.Dense(units=128,\n",
        "                          activation='relu'))"
      ],
      "execution_count": 11,
      "outputs": []
    },
    {
      "cell_type": "markdown",
      "metadata": {
        "id": "yTldFvbX28Na"
      },
      "source": [
        "### Step 5 - Output Layer\n"
      ]
    },
    {
      "cell_type": "code",
      "metadata": {
        "id": "6TS0WlNJiL58"
      },
      "source": [
        "cnn.add(\n",
        "    tf.keras.layers.Dense(units=1, # binary classification\n",
        "                          activation='sigmoid')) # binary classification (multiclass classification: softmax activation)"
      ],
      "execution_count": 12,
      "outputs": []
    },
    {
      "cell_type": "markdown",
      "metadata": {
        "id": "D6XkI90snSDl"
      },
      "source": [
        "## Part 3 - Training the CNN"
      ]
    },
    {
      "cell_type": "markdown",
      "metadata": {
        "id": "vfrFQACEnc6i"
      },
      "source": [
        "### Compiling the CNN"
      ]
    },
    {
      "cell_type": "code",
      "metadata": {
        "id": "9OKhLvIPHh6G"
      },
      "source": [
        "cnn.compile(optimizer='adam', loss='binary_crossentropy', metrics='accuracy')"
      ],
      "execution_count": 16,
      "outputs": []
    },
    {
      "cell_type": "markdown",
      "metadata": {
        "id": "ehS-v3MIpX2h"
      },
      "source": [
        "### Training the CNN on the Training set and evaluating it on the Test set"
      ]
    },
    {
      "cell_type": "code",
      "metadata": {
        "id": "3xm1EkOBIBxQ",
        "outputId": "9b8ac2b7-47b8-45d5-82a5-ec1af62e477a",
        "colab": {
          "base_uri": "https://localhost:8080/",
          "height": 201
        }
      },
      "source": [
        "cnn.fit(x=training_set,\n",
        "        validation_data=test_set, # no transformation was applied, only feature scaling\n",
        "        epochs=25)"
      ],
      "execution_count": 22,
      "outputs": [
        {
          "output_type": "stream",
          "name": "stdout",
          "text": [
            "Epoch 1/25\n",
            "250/250 [==============================] - 79s 318ms/step - loss: 0.2646 - accuracy: 0.8916 - val_loss: 0.4894 - val_accuracy: 0.7905\n",
            "Epoch 2/25\n",
            "250/250 [==============================] - 85s 341ms/step - loss: 0.2581 - accuracy: 0.8929 - val_loss: 0.5317 - val_accuracy: 0.8090\n",
            "Epoch 3/25\n",
            "250/250 [==============================] - 61s 242ms/step - loss: 0.2422 - accuracy: 0.8981 - val_loss: 0.5184 - val_accuracy: 0.8040\n",
            "Epoch 4/25\n",
            "250/250 [==============================] - 64s 257ms/step - loss: 0.2187 - accuracy: 0.9110 - val_loss: 0.5444 - val_accuracy: 0.7985\n",
            "Epoch 5/25\n",
            "250/250 [==============================] - 61s 242ms/step - loss: 0.2087 - accuracy: 0.9180 - val_loss: 0.5451 - val_accuracy: 0.7940\n",
            "Epoch 6/25\n",
            "250/250 [==============================] - 61s 243ms/step - loss: 0.1940 - accuracy: 0.9235 - val_loss: 0.6621 - val_accuracy: 0.7715\n",
            "Epoch 7/25\n",
            "250/250 [==============================] - 61s 243ms/step - loss: 0.1843 - accuracy: 0.9270 - val_loss: 0.6060 - val_accuracy: 0.8025\n",
            "Epoch 8/25\n",
            "250/250 [==============================] - 60s 241ms/step - loss: 0.1720 - accuracy: 0.9327 - val_loss: 0.7328 - val_accuracy: 0.7690\n",
            "Epoch 9/25\n",
            "250/250 [==============================] - 61s 243ms/step - loss: 0.1771 - accuracy: 0.9305 - val_loss: 0.6514 - val_accuracy: 0.7975\n",
            "Epoch 10/25\n",
            "250/250 [==============================] - 60s 241ms/step - loss: 0.1559 - accuracy: 0.9362 - val_loss: 0.6121 - val_accuracy: 0.7975\n",
            "Epoch 11/25\n",
            "250/250 [==============================] - 60s 241ms/step - loss: 0.1430 - accuracy: 0.9436 - val_loss: 0.6437 - val_accuracy: 0.8010\n",
            "Epoch 12/25\n",
            "250/250 [==============================] - 60s 242ms/step - loss: 0.1388 - accuracy: 0.9450 - val_loss: 0.7466 - val_accuracy: 0.7685\n",
            "Epoch 13/25\n",
            "250/250 [==============================] - 62s 246ms/step - loss: 0.1393 - accuracy: 0.9435 - val_loss: 0.8116 - val_accuracy: 0.7595\n",
            "Epoch 14/25\n",
            "250/250 [==============================] - 62s 247ms/step - loss: 0.1285 - accuracy: 0.9513 - val_loss: 0.6744 - val_accuracy: 0.8015\n",
            "Epoch 15/25\n",
            "250/250 [==============================] - 60s 242ms/step - loss: 0.1374 - accuracy: 0.9500 - val_loss: 0.6643 - val_accuracy: 0.7990\n",
            "Epoch 16/25\n",
            "250/250 [==============================] - 62s 246ms/step - loss: 0.1145 - accuracy: 0.9553 - val_loss: 0.6930 - val_accuracy: 0.8085\n",
            "Epoch 17/25\n",
            "250/250 [==============================] - 58s 231ms/step - loss: 0.1202 - accuracy: 0.9532 - val_loss: 0.7572 - val_accuracy: 0.7980\n",
            "Epoch 18/25\n",
            "250/250 [==============================] - 55s 219ms/step - loss: 0.0979 - accuracy: 0.9640 - val_loss: 0.7605 - val_accuracy: 0.8040\n",
            "Epoch 19/25\n",
            "250/250 [==============================] - 55s 220ms/step - loss: 0.1056 - accuracy: 0.9597 - val_loss: 0.7497 - val_accuracy: 0.7950\n",
            "Epoch 20/25\n",
            "250/250 [==============================] - 55s 219ms/step - loss: 0.0912 - accuracy: 0.9704 - val_loss: 0.7628 - val_accuracy: 0.8025\n",
            "Epoch 21/25\n",
            "250/250 [==============================] - 55s 218ms/step - loss: 0.0899 - accuracy: 0.9681 - val_loss: 0.8627 - val_accuracy: 0.7940\n",
            "Epoch 22/25\n",
            "250/250 [==============================] - 55s 220ms/step - loss: 0.0854 - accuracy: 0.9675 - val_loss: 0.8540 - val_accuracy: 0.7985\n",
            "Epoch 23/25\n",
            "250/250 [==============================] - 55s 218ms/step - loss: 0.0936 - accuracy: 0.9655 - val_loss: 0.8723 - val_accuracy: 0.7925\n",
            "Epoch 24/25\n",
            "250/250 [==============================] - 57s 228ms/step - loss: 0.0779 - accuracy: 0.9709 - val_loss: 0.8718 - val_accuracy: 0.8020\n",
            "Epoch 25/25\n",
            "250/250 [==============================] - 55s 219ms/step - loss: 0.0858 - accuracy: 0.9676 - val_loss: 0.8748 - val_accuracy: 0.7945\n"
          ]
        },
        {
          "output_type": "execute_result",
          "data": {
            "text/plain": [
              "<tensorflow.python.keras.callbacks.History at 0x1a61c54c848>"
            ]
          },
          "metadata": {},
          "execution_count": 22
        }
      ]
    },
    {
      "cell_type": "markdown",
      "metadata": {
        "id": "U3PZasO0006Z"
      },
      "source": [
        "## Part 4 - Making a single prediction"
      ]
    },
    {
      "cell_type": "code",
      "metadata": {
        "id": "-0tonJySOR5i"
      },
      "source": [
        "test_image = image.load_img(path='C:/Users/DorottyaWinter/Documents/git_files/deep_learning_course/1_cnn/single_prediction/random_test.jpg',\n",
        "                            target_size=(64,64))\n",
        "test_image = image.img_to_array(img=test_image) # convert to numpy array\n",
        "test_image = np.expand_dims(a=test_image, axis=0) # extra dimension corresponding to the batch"
      ],
      "execution_count": 36,
      "outputs": []
    },
    {
      "cell_type": "code",
      "metadata": {
        "id": "hJzVOJ0WQ7YK"
      },
      "source": [
        "result = cnn.predict(x=test_image)"
      ],
      "execution_count": 37,
      "outputs": []
    },
    {
      "cell_type": "code",
      "metadata": {
        "id": "h4nW9KMFRNqY"
      },
      "source": [
        "training_set.class_indices # which indices corresponds to which classes # currently: 0 - cat, 1 - dog"
      ],
      "execution_count": 38,
      "outputs": [
        {
          "output_type": "execute_result",
          "data": {
            "text/plain": [
              "{'cats': 0, 'dogs': 1}"
            ]
          },
          "metadata": {},
          "execution_count": 38
        }
      ]
    },
    {
      "cell_type": "code",
      "metadata": {
        "id": "QXW1sz7nSzU_"
      },
      "source": [
        "if result[0][0] == 1: # result[<batch dimension>][<first prediction>]\n",
        "  prediction = 'dog'\n",
        "else:\n",
        "  prediction = 'cat'\n",
        "\n",
        "print(prediction)"
      ],
      "execution_count": 39,
      "outputs": [
        {
          "output_type": "stream",
          "name": "stdout",
          "text": [
            "dog\n"
          ]
        }
      ]
    },
    {
      "cell_type": "code",
      "execution_count": null,
      "metadata": {},
      "outputs": [],
      "source": []
    }
  ]
}